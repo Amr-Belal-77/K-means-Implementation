{
  "cells": [
    {
      "cell_type": "code",
      "execution_count": 21,
      "metadata": {
        "id": "PpAsynYwnw6D"
      },
      "outputs": [],
      "source": [
        "import numpy as np\n",
        "import pandas as pd\n",
        "from sklearn import preprocessing\n",
        "import matplotlib.pyplot as plt\n",
        "import math\n",
        "from sklearn import datasets\n"
      ]
    },
    {
      "cell_type": "markdown",
      "metadata": {
        "id": "01fArcUBnw6F"
      },
      "source": [
        "**Data**"
      ]
    },
    {
      "cell_type": "code",
      "execution_count": 22,
      "metadata": {
        "id": "Ka4xiTlKnw6F"
      },
      "outputs": [],
      "source": [
        "data = datasets.load_iris()\n",
        "df = pd.DataFrame({\n",
        "    'x': data.data[:,0],\n",
        "    'y': data.data[:,1],\n",
        "    'cluster' : data.target\n",
        "})"
      ]
    },
    {
      "cell_type": "code",
      "execution_count": 23,
      "metadata": {
        "colab": {
          "base_uri": "https://localhost:8080/"
        },
        "id": "dFzhVE8gnw6H",
        "outputId": "972533e7-c152-450f-c61b-fd841cd45c42"
      },
      "outputs": [
        {
          "output_type": "stream",
          "name": "stdout",
          "text": [
            "[[0.02   0.0371 0.0428 ... 0.009  0.0032 1.    ]\n",
            " [0.0453 0.0523 0.0843 ... 0.0052 0.0044 1.    ]\n",
            " [0.0262 0.0582 0.1099 ... 0.0095 0.0078 1.    ]\n",
            " ...\n",
            " [0.0522 0.0437 0.018  ... 0.0077 0.0031 0.    ]\n",
            " [0.0303 0.0353 0.049  ... 0.0036 0.0048 0.    ]\n",
            " [0.026  0.0363 0.0136 ... 0.0061 0.0115 0.    ]]\n"
          ]
        },
        {
          "output_type": "stream",
          "name": "stderr",
          "text": [
            "<ipython-input-23-192367b0170b>:7: FutureWarning: Series.__getitem__ treating keys as positions is deprecated. In a future version, integer keys will always be treated as labels (consistent with DataFrame behavior). To access a value by position, use `ser.iloc[pos]`\n",
            "  if d_types[i]=='object':\n"
          ]
        }
      ],
      "source": [
        "#  sonar\n",
        "\n",
        "data = pd.read_csv('https://pkgstore.datahub.io/machine-learning/sonar/sonar_csv/data/71dc2b4593995a5a1cff52824511fc61/sonar_csv.csv')\n",
        "\n",
        "d_types=data.dtypes\n",
        "for i in range(data.shape[1]):\n",
        "    if d_types[i]=='object':\n",
        "        Pr_data = preprocessing.LabelEncoder()\n",
        "        data[data.columns[i]]=Pr_data.fit_transform(data[data.columns[i]])\n",
        "\n",
        "data= np.array(data)\n",
        "print(data)"
      ]
    },
    {
      "cell_type": "markdown",
      "metadata": {
        "id": "yplO3OKOnw6I"
      },
      "source": [
        "**input**"
      ]
    },
    {
      "cell_type": "code",
      "execution_count": 24,
      "metadata": {
        "colab": {
          "base_uri": "https://localhost:8080/"
        },
        "collapsed": true,
        "id": "4YdSW3xinw6I",
        "outputId": "6df220b5-41ee-4d6b-d6cf-eaeed1d35c09"
      },
      "outputs": [
        {
          "name": "stdout",
          "output_type": "stream",
          "text": [
            "K = 3\n",
            "Chose the centroid technic [ 1-Rondom / 2-Deterministic ] :1\n",
            "Chose the distance technic (1-Euclidean /2- Manhatten) : 2\n"
          ]
        }
      ],
      "source": [
        "k= int(input('K = '))\n",
        "centroid_technic = input('Chose the centroid technic [ 1-Rondom / 2-Deterministic ] :')\n",
        "distance_technic =input('Chose the distance technic (1-Euclidean /2- Manhatten) : ')\n",
        "\n",
        "while True:\n",
        "    if k ==3 and centroid_technic == \"2\":\n",
        "        print(f\"cluster 1 :mini \\rcluster 2 :mean \\rcluster 3 : max\")\n",
        "    elif k >3 and centroid_technic ==\"2\":\n",
        "        print(\"choose new k & centeoid technic.[k=>3 or centroid technic = 1]\")\n",
        "        k= int(input('K = '))\n",
        "        centroid_technic = input('Chose the centroid technic [ 1-Rondom / 2-Deterministic ] :')\n",
        "    else :\n",
        "        break"
      ]
    },
    {
      "cell_type": "markdown",
      "metadata": {
        "id": "ZIYiodENnw6I"
      },
      "source": [
        "**----- < < Centroid > > -----**"
      ]
    },
    {
      "cell_type": "code",
      "source": [
        "def cal_centroid (data, k , centroid_technic):                                  #   ----- < < Centroid > > -----\n",
        "                            #================================================\n",
        "\n",
        "                        #   ----- < < Rondom > > -----\n",
        "        if centroid_technic == \"rondom\" or centroid_technic == \"1\" :            #   ----- < < Rondom > > -----\n",
        "            # Randomly initialize centroids\n",
        "            centroids = data[np.random.choice(len(data), k, replace=False)]\n",
        "#   =========================================\n",
        "                        #   ----- < < Deterministic > > -----\n",
        "        elif centroid_technic == \"deterministic\" or centroid_technic == \"2\" :   #   ----- < < Deternibistic > > -----\n",
        "            centroids=[]\n",
        "            sum , max , index_max , index_mini=0,0,0,0\n",
        "            mini = float('inf')\n",
        "            for index , i in enumerate(data):\n",
        "                for j in i :\n",
        "                    sum+=j\n",
        "                if sum >max:                           # calculate max\n",
        "                    max = sum\n",
        "                    index_max = index\n",
        "                    if mini > max :\n",
        "                        mini = sum\n",
        "                        index_mini = index\n",
        "\n",
        "                elif sum < mini :                           # calculate mini\n",
        "                    mini = sum\n",
        "                    index_mini = index\n",
        "                    print(j)\n",
        "                sum=0\n",
        "            centroids.append(data[index_mini])\n",
        "            centroids.append(data[index_max])\n",
        "                                                            # mean\n",
        "            if k==3 and centroid_technic == \"deterministic\" or centroid_technic == \"2\" :\n",
        "                meanToCentroid=np.mean(data,axis=0)\n",
        "                centroids.append(meanToCentroid.tolist())\n",
        "\n",
        "        return centroids\n",
        "\n",
        "centroid=cal_centroid(data, k , centroid_technic)\n",
        "print(centroid)"
      ],
      "metadata": {
        "colab": {
          "base_uri": "https://localhost:8080/"
        },
        "id": "qK2_11RJotmQ",
        "outputId": "9c650d7a-ace6-42e6-cf49-eeccc77cc633"
      },
      "execution_count": 25,
      "outputs": [
        {
          "output_type": "stream",
          "name": "stdout",
          "text": [
            "[[0.0265 0.044  0.0137 0.0084 0.0305 0.0438 0.0341 0.078  0.0844 0.0779\n",
            "  0.0327 0.206  0.1908 0.1065 0.1457 0.2232 0.207  0.1105 0.1078 0.1165\n",
            "  0.2224 0.0689 0.206  0.2384 0.0904 0.2278 0.5872 0.8457 0.8467 0.7679\n",
            "  0.8055 0.626  0.6545 0.8747 0.9885 0.9348 0.696  0.5733 0.5872 0.6663\n",
            "  0.5651 0.5247 0.3684 0.1997 0.1512 0.0508 0.0931 0.0982 0.0524 0.0188\n",
            "  0.01   0.0038 0.0187 0.0156 0.0068 0.0097 0.0073 0.0081 0.0086 0.0095\n",
            "  1.    ]\n",
            " [0.0072 0.0027 0.0089 0.0061 0.042  0.0865 0.1182 0.0999 0.1976 0.2318\n",
            "  0.2472 0.288  0.2126 0.0708 0.1194 0.2808 0.4221 0.5279 0.5857 0.6153\n",
            "  0.6753 0.7873 0.8974 0.9828 1.     0.846  0.6055 0.3036 0.0144 0.2526\n",
            "  0.4335 0.4918 0.5409 0.5961 0.5248 0.3777 0.2369 0.172  0.1878 0.325\n",
            "  0.2575 0.2423 0.2706 0.2323 0.1724 0.1457 0.1175 0.0868 0.0392 0.0131\n",
            "  0.0092 0.0078 0.0071 0.0081 0.0034 0.0064 0.0037 0.0036 0.0012 0.0037\n",
            "  0.    ]\n",
            " [0.0443 0.0446 0.0235 0.1008 0.2252 0.2611 0.2061 0.1668 0.1801 0.3083\n",
            "  0.3794 0.5364 0.6173 0.7842 0.8392 0.9016 1.     0.8911 0.8753 0.7886\n",
            "  0.7156 0.7581 0.6372 0.321  0.2076 0.2279 0.3309 0.2847 0.1949 0.1671\n",
            "  0.1025 0.1362 0.2212 0.1124 0.1677 0.1039 0.2562 0.2624 0.2236 0.118\n",
            "  0.1103 0.2831 0.2385 0.0255 0.1967 0.1483 0.0434 0.0627 0.0513 0.0473\n",
            "  0.0248 0.0274 0.0205 0.0141 0.0185 0.0055 0.0045 0.0115 0.0152 0.01\n",
            "  0.    ]]\n"
          ]
        }
      ]
    },
    {
      "cell_type": "markdown",
      "metadata": {
        "id": "NbER2c8Anw6y"
      },
      "source": [
        "**----- < < plot iris > > -----**"
      ]
    },
    {
      "cell_type": "code",
      "execution_count": 26,
      "metadata": {
        "colab": {
          "base_uri": "https://localhost:8080/",
          "height": 430
        },
        "id": "2Hy1SjErnw6y",
        "outputId": "b868a2df-37ff-42f1-9f2c-3b9247dd456b"
      },
      "outputs": [
        {
          "output_type": "display_data",
          "data": {
            "text/plain": [
              "<Figure size 640x480 with 1 Axes>"
            ],
            "image/png": "[encoded data removed]"
          },
          "metadata": {}
        }
      ],
      "source": [
        "colmap = {0: 'r', 1: 'g', 2: 'b'}\n",
        "for i in range(3):\n",
        "    plt.scatter(centroid[i][0],centroid[i][1], color=colmap[i])\n",
        "plt.show()"
      ]
    },
    {
      "cell_type": "markdown",
      "metadata": {
        "id": "b5rmgLuanw6z"
      },
      "source": []
    },
    {
      "cell_type": "code",
      "source": [
        "max_iters=100\n",
        "for _ in range(max_iters):\n",
        "    # Convert centroid to a NumPy array\n",
        "    centroid = np.array(centroid)\n",
        "\n",
        "    if distance_technic == '1'or distance_technic == \"Euclidean\" or distance_technic == 'euclidean':\n",
        "        # Ecludian distance\n",
        "        distances = np.sqrt(((data - centroid[:, np.newaxis])**2).sum(axis=2))\n",
        "    else:\n",
        "        # Manhattn distance\n",
        "        distances = np.sum(np.abs(data - centroid[:, np.newaxis]), axis=2)\n",
        "\n",
        "    #calculate the shortest distance\n",
        "    labels = np.argmin(distances, axis=0)\n",
        "\n",
        "    # New centroid\n",
        "    new_centers = np.array([data[labels == i].mean(axis=0) for i in range(k)])\n",
        "\n",
        "\n",
        "    if np.all(centroid == new_centers):\n",
        "        break\n",
        "\n",
        "    centroid = new_centers\n"
      ],
      "metadata": {
        "id": "Js3qIXh1p8KZ"
      },
      "execution_count": 27,
      "outputs": []
    },
    {
      "cell_type": "code",
      "source": [
        "print(\"centroids: \")\n",
        "print(centroid)\n",
        "print(\"clusters: \")\n",
        "print(labels)\n"
      ],
      "metadata": {
        "colab": {
          "base_uri": "https://localhost:8080/"
        },
        "id": "k_L-krWmqJJS",
        "outputId": "5c3d2191-25ed-4c94-c56d-73cebeecf4b1"
      },
      "execution_count": 28,
      "outputs": [
        {
          "output_type": "stream",
          "name": "stdout",
          "text": [
            "centroids: \n",
            "[[0.03713864 0.04739091 0.04605455 0.05379545 0.06632273 0.10677045\n",
            "  0.12691818 0.15698864 0.20990682 0.22116136 0.20885    0.21702273\n",
            "  0.21732045 0.20898409 0.21871364 0.26721136 0.26386818 0.27108182\n",
            "  0.31211591 0.39500227 0.42265682 0.37039091 0.39027273 0.43844318\n",
            "  0.44826136 0.51211591 0.54937955 0.66865455 0.70767045 0.74029773\n",
            "  0.67545682 0.61265227 0.63082273 0.67677045 0.69796818 0.68119318\n",
            "  0.62181364 0.59914091 0.53891364 0.49158409 0.457975   0.41200455\n",
            "  0.34427955 0.32704091 0.34946591 0.29265682 0.19173636 0.13517727\n",
            "  0.07233409 0.02898864 0.02050455 0.01668182 0.01339545 0.01285\n",
            "  0.01144091 0.00956364 0.00934091 0.00955    0.01093864 0.00822273\n",
            "  0.5       ]\n",
            " [0.02167356 0.02848046 0.03402184 0.0387908  0.06045057 0.08976207\n",
            "  0.10654138 0.11392069 0.15854368 0.19534253 0.23256552 0.2466023\n",
            "  0.2528046  0.23091724 0.2098     0.23943103 0.2589954  0.3020908\n",
            "  0.38306552 0.46480115 0.53851149 0.60304598 0.67976092 0.75254943\n",
            "  0.80385517 0.85438046 0.86543103 0.84073678 0.7638977  0.64093908\n",
            "  0.53416207 0.46345632 0.42124598 0.37049195 0.32381494 0.30759885\n",
            "  0.2827046  0.26230575 0.27403103 0.25379655 0.23300805 0.24933333\n",
            "  0.24274138 0.20153448 0.17244253 0.14003218 0.10827241 0.08341839\n",
            "  0.04531149 0.01660575 0.01458161 0.01191034 0.00908276 0.00881839\n",
            "  0.00745172 0.00691379 0.0061092  0.00618506 0.0059954  0.00531379\n",
            "  0.45977011]\n",
            " [0.03307013 0.04456883 0.05364675 0.07101039 0.09694416 0.12004416\n",
            "  0.13597143 0.14570909 0.18175844 0.21548052 0.25542987 0.27328052\n",
            "  0.32845974 0.42079351 0.50293377 0.59918701 0.68028182 0.72561948\n",
            "  0.75248052 0.77007662 0.79528701 0.79333766 0.75661818 0.71621818\n",
            "  0.66011948 0.63257143 0.60497403 0.54275455 0.46694545 0.42205455\n",
            "  0.37322987 0.31224675 0.29061169 0.28391948 0.29574416 0.30278831\n",
            "  0.30800909 0.27877792 0.26251169 0.273      0.25638701 0.23460779\n",
            "  0.19498571 0.16369221 0.13825065 0.10846234 0.09888442 0.07546753\n",
            "  0.04774545 0.01984416 0.01521429 0.01326234 0.01101169 0.01224805\n",
            "  0.01013896 0.00893247 0.00888442 0.00902727 0.00842727 0.00687532\n",
            "  0.45454545]]\n",
            "clusters: \n",
            "[0 2 2 0 2 2 2 2 2 1 1 1 2 1 1 0 0 2 1 2 0 0 0 0 0 1 2 1 2 2 1 1 2 2 2 1 1\n",
            " 1 1 1 1 0 0 0 0 2 2 0 1 1 0 1 1 1 1 1 1 1 1 1 1 1 1 1 0 0 0 0 0 1 1 1 1 1\n",
            " 2 2 2 2 2 2 2 2 2 2 2 2 2 2 2 2 2 1 1 1 1 0 0 0 2 2 2 2 2 2 2 2 2 2 2 2 2\n",
            " 2 2 2 2 2 2 2 2 2 1 2 2 2 2 2 2 2 2 2 2 0 0 0 0 0 0 1 1 1 1 1 0 0 0 0 0 1\n",
            " 2 2 2 2 2 2 2 2 0 0 0 0 0 0 1 1 0 2 0 0 1 1 1 1 1 1 1 1 2 1 1 1 1 1 1 1 1\n",
            " 1 0 1 1 1 1 1 1 1 1 1 1 1 1 1 1 1 1 1 1 1 1 1]\n"
          ]
        }
      ]
    }
  ],
  "metadata": {
    "kernelspec": {
      "display_name": "Python 3",
      "language": "python",
      "name": "python3"
    },
    "language_info": {
      "codemirror_mode": {
        "name": "ipython",
        "version": 3
      },
      "file_extension": ".py",
      "mimetype": "text/x-python",
      "name": "python",
      "nbconvert_exporter": "python",
      "pygments_lexer": "ipython3",
      "version": "3.12.4"
    },
    "colab": {
      "provenance": []
    }
  },
  "nbformat": 4,
  "nbformat_minor": 0
}